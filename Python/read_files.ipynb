{
 "cells": [
  {
   "cell_type": "markdown",
   "metadata": {},
   "source": [
    "#FILE ISSUE IN games.parq"
   ]
  },
  {
   "cell_type": "code",
   "execution_count": 4,
   "metadata": {},
   "outputs": [
    {
     "name": "stdout",
     "output_type": "stream",
     "text": [
      "       gameId  season  week homeTeamAbbr visitorTeamAbbr  homeFinalScore  \\\n",
      "0  2022090800    2022     1           LA             BUF              10   \n",
      "1  2022091100    2022     1          ATL              NO              26   \n",
      "2  2022091101    2022     1          CAR             CLE              24   \n",
      "3  2022091102    2022     1          CHI              SF              19   \n",
      "4  2022091103    2022     1          CIN             PIT              20   \n",
      "\n",
      "   visitorFinalScore        gameDatetime  \n",
      "0                 31 2022-09-08 20:20:00  \n",
      "1                 27 2022-09-11 13:00:00  \n",
      "2                 26 2022-09-11 13:00:00  \n",
      "3                 10 2022-09-11 13:00:00  \n",
      "4                 23 2022-09-11 13:00:00  \n",
      "gameId                       uint32\n",
      "season                       uint16\n",
      "week                          uint8\n",
      "homeTeamAbbr                 object\n",
      "visitorTeamAbbr              object\n",
      "homeFinalScore                uint8\n",
      "visitorFinalScore             uint8\n",
      "gameDatetime         datetime64[ns]\n",
      "dtype: object\n"
     ]
    }
   ],
   "source": [
    "import pandas as pd\n",
    "\n",
    "# Load the Parquet file\n",
    "file_path = \"D:\\Hackthon\\Dremio\\DATA\\competition_data\\games.parq\"\n",
    "df = pd.read_parquet(file_path)\n",
    "\n",
    "# Check the first few rows and the column types\n",
    "print(df.head())\n",
    "print(df.dtypes)\n"
   ]
  },
  {
   "cell_type": "code",
   "execution_count": 5,
   "metadata": {},
   "outputs": [
    {
     "name": "stdout",
     "output_type": "stream",
     "text": [
      "Updated Parquet file saved to D:\\Hackthon\\Dremio\\DATA\\competition_data\\games_fixed.parq\n"
     ]
    }
   ],
   "source": [
    "import pandas as pd\n",
    "\n",
    "# Load the Parquet file\n",
    "file_path = \"D:\\Hackthon\\Dremio\\DATA\\competition_data\\games.parq\"\n",
    "df = pd.read_parquet(file_path)\n",
    "\n",
    "# Ensure 'gameDatetime' is explicitly converted to timestamp\n",
    "df['gameDatetime'] = pd.to_datetime(df['gameDatetime'])\n",
    "\n",
    "# Save the DataFrame to a new Parquet file\n",
    "updated_file_path = \"D:\\Hackthon\\Dremio\\DATA\\competition_data\\games_fixed.parq\"\n",
    "df.to_parquet(updated_file_path, index=False)\n",
    "\n",
    "print(f\"Updated Parquet file saved to {updated_file_path}\")\n"
   ]
  },
  {
   "cell_type": "markdown",
   "metadata": {},
   "source": [
    "https://community.dremio.com/t/nfl-data-in-parquet-showing-unable-to-coerce-error/12661/3"
   ]
  },
  {
   "cell_type": "markdown",
   "metadata": {},
   "source": [
    "#FILE ISSUE IN players.parq"
   ]
  },
  {
   "cell_type": "code",
   "execution_count": 6,
   "metadata": {},
   "outputs": [
    {
     "name": "stdout",
     "output_type": "stream",
     "text": [
      "   nflId  height  weight  birthDate     collegeName position     displayName\n",
      "0  25511   6.333     225 1977-08-03        Michigan       QB       Tom Brady\n",
      "1  29550   6.333     328 1982-01-22        Arkansas        T    Jason Peters\n",
      "2  29851   6.167     225 1983-12-02      California       QB   Aaron Rodgers\n",
      "3  30842   6.500     267 1984-05-19            UCLA       TE  Marcedes Lewis\n",
      "4  33084   6.333     217 1985-05-17  Boston College       QB       Matt Ryan\n",
      "nflId                  uint16\n",
      "height                float64\n",
      "weight                 uint16\n",
      "birthDate      datetime64[ns]\n",
      "collegeName            object\n",
      "position               object\n",
      "displayName            object\n",
      "dtype: object\n"
     ]
    }
   ],
   "source": [
    "import pandas as pd\n",
    "\n",
    "# Load the Parquet file\n",
    "file_path = \"D:\\Hackthon\\Dremio\\DATA\\competition_data\\players.parq\"\n",
    "df = pd.read_parquet(file_path)\n",
    "\n",
    "# Check the first few rows and the column types\n",
    "print(df.head())\n",
    "print(df.dtypes)\n"
   ]
  },
  {
   "cell_type": "code",
   "execution_count": 7,
   "metadata": {},
   "outputs": [
    {
     "name": "stdout",
     "output_type": "stream",
     "text": [
      "Updated Parquet file saved to D:\\Hackthon\\Dremio\\DATA\\competition_data\\players_fixed.parq\n"
     ]
    }
   ],
   "source": [
    "import pandas as pd\n",
    "\n",
    "# Load the Parquet file\n",
    "file_path = \"D:\\Hackthon\\Dremio\\DATA\\competition_data\\players.parq\"\n",
    "df = pd.read_parquet(file_path)\n",
    "\n",
    "# Ensure 'birthDate' is explicitly converted to timestamp\n",
    "df['birthDate'] = pd.to_datetime(df['birthDate'])\n",
    "\n",
    "# Save the DataFrame to a new Parquet file\n",
    "updated_file_path = \"D:\\Hackthon\\Dremio\\DATA\\competition_data\\players_fixed.parq\"\n",
    "df.to_parquet(updated_file_path, index=False)\n",
    "\n",
    "print(f\"Updated Parquet file saved to {updated_file_path}\")\n"
   ]
  },
  {
   "cell_type": "markdown",
   "metadata": {},
   "source": [
    "#FILE ISSUE IN tracking_all_weeks.parq"
   ]
  },
  {
   "cell_type": "code",
   "execution_count": 11,
   "metadata": {},
   "outputs": [
    {
     "name": "stdout",
     "output_type": "stream",
     "text": [
      "       gameId  playId  nflId     displayName  frameId  \\\n",
      "0  2022090800      56  35472  Rodger Saffold        1   \n",
      "1  2022090800      56  35472  Rodger Saffold        2   \n",
      "2  2022090800      56  35472  Rodger Saffold        3   \n",
      "3  2022090800      56  35472  Rodger Saffold        4   \n",
      "4  2022090800      56  35472  Rodger Saffold        5   \n",
      "\n",
      "                        time  jerseyNumber club playDirection          x  \\\n",
      "0 2022-09-08 20:24:05.200000            76  BUF          left  88.370003   \n",
      "1 2022-09-08 20:24:05.299999            76  BUF          left  88.470001   \n",
      "2 2022-09-08 20:24:05.400000            76  BUF          left  88.559998   \n",
      "3 2022-09-08 20:24:05.500000            76  BUF          left  88.639999   \n",
      "4 2022-09-08 20:24:05.599999            76  BUF          left  88.720001   \n",
      "\n",
      "           y     s     a   dis           o         dir         event  \\\n",
      "0  27.270000  1.62  1.15  0.16  231.740005  147.899994           NaN   \n",
      "1  27.129999  1.67  0.61  0.17  230.979996  148.529999  pass_arrived   \n",
      "2  27.010000  1.57  0.49  0.15  230.979996  147.050003           NaN   \n",
      "3  26.900000  1.44  0.89  0.14  232.380005  145.419998           NaN   \n",
      "4  26.799999  1.29  1.24  0.13  233.360001  141.949997           NaN   \n",
      "\n",
      "   tracking_week  \n",
      "0              1  \n",
      "1              1  \n",
      "2              1  \n",
      "3              1  \n",
      "4              1  \n",
      "gameId                   uint32\n",
      "playId                   uint16\n",
      "nflId                     int32\n",
      "displayName            category\n",
      "frameId                   uint8\n",
      "time             datetime64[ns]\n",
      "jerseyNumber              int16\n",
      "club                   category\n",
      "playDirection          category\n",
      "x                       float32\n",
      "y                       float32\n",
      "s                       float32\n",
      "a                       float32\n",
      "dis                     float32\n",
      "o                       float32\n",
      "dir                     float32\n",
      "event                  category\n",
      "tracking_week             uint8\n",
      "dtype: object\n"
     ]
    }
   ],
   "source": [
    "import pandas as pd\n",
    "\n",
    "# Load the Parquet file\n",
    "file_path = r\"D:\\Hackthon\\Dremio\\DATA\\competition_data\\tracking_all_weeks.parq\"\n",
    "df = pd.read_parquet(file_path)\n",
    "\n",
    "# Check the first few rows and the column types\n",
    "print(df.head(5))\n",
    "print(df.dtypes)\n"
   ]
  },
  {
   "cell_type": "code",
   "execution_count": 12,
   "metadata": {},
   "outputs": [
    {
     "name": "stdout",
     "output_type": "stream",
     "text": [
      "Updated Parquet file saved to D:\\Hackthon\\Dremio\\DATA\\competition_data\\tracking_all_weeks_fixed.parq\n"
     ]
    }
   ],
   "source": [
    "import pandas as pd\n",
    "\n",
    "# Load the Parquet file\n",
    "file_path = r\"D:\\Hackthon\\Dremio\\DATA\\competition_data\\tracking_all_weeks.parq\"\n",
    "df = pd.read_parquet(file_path)\n",
    "\n",
    "# Ensure 'time' is explicitly converted to timestamp\n",
    "df['time'] = pd.to_datetime(df['time'])\n",
    "\n",
    "# Save the DataFrame to a new Parquet file\n",
    "updated_file_path =r\"D:\\Hackthon\\Dremio\\DATA\\competition_data\\tracking_all_weeks_fixed.parq\"\n",
    "df.to_parquet(updated_file_path, index=False)\n",
    "\n",
    "print(f\"Updated Parquet file saved to {updated_file_path}\")\n"
   ]
  }
 ],
 "metadata": {
  "kernelspec": {
   "display_name": "snowpark",
   "language": "python",
   "name": "python3"
  },
  "language_info": {
   "codemirror_mode": {
    "name": "ipython",
    "version": 3
   },
   "file_extension": ".py",
   "mimetype": "text/x-python",
   "name": "python",
   "nbconvert_exporter": "python",
   "pygments_lexer": "ipython3",
   "version": "3.10.11"
  }
 },
 "nbformat": 4,
 "nbformat_minor": 2
}
